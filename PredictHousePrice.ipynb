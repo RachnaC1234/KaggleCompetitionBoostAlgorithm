{
 "cells": [
  {
   "cell_type": "markdown",
   "id": "70caf16c",
   "metadata": {
    "papermill": {
     "duration": 0.020368,
     "end_time": "2022-01-17T04:58:10.912229",
     "exception": false,
     "start_time": "2022-01-17T04:58:10.891861",
     "status": "completed"
    },
    "tags": []
   },
   "source": [
    "**This notebook is an exercise in the [Introduction to Machine Learning](https://www.kaggle.com/learn/intro-to-machine-learning) course.  You can reference the tutorial at [this link](https://www.kaggle.com/alexisbcook/machine-learning-competitions).**\n",
    "\n",
    "---\n"
   ]
  },
  {
   "cell_type": "markdown",
   "id": "4dc696ba",
   "metadata": {
    "papermill": {
     "duration": 0.020812,
     "end_time": "2022-01-17T04:58:10.952574",
     "exception": false,
     "start_time": "2022-01-17T04:58:10.931762",
     "status": "completed"
    },
    "tags": []
   },
   "source": [
    "# Introduction\n",
    "\n",
    "In this exercise, you will create and submit predictions for a Kaggle competition. You can then improve your model (e.g. by adding features) to apply what you've learned and move up the leaderboard.\n",
    "\n",
    "Begin by running the code cell below to set up code checking and the filepaths for the dataset."
   ]
  },
  {
   "cell_type": "code",
   "execution_count": 1,
   "id": "90210c60",
   "metadata": {
    "execution": {
     "iopub.execute_input": "2022-01-17T04:58:10.995513Z",
     "iopub.status.busy": "2022-01-17T04:58:10.993666Z",
     "iopub.status.idle": "2022-01-17T04:58:11.039763Z",
     "shell.execute_reply": "2022-01-17T04:58:11.040264Z",
     "shell.execute_reply.started": "2022-01-17T04:54:17.935240Z"
    },
    "papermill": {
     "duration": 0.069773,
     "end_time": "2022-01-17T04:58:11.040722",
     "exception": false,
     "start_time": "2022-01-17T04:58:10.970949",
     "status": "completed"
    },
    "tags": []
   },
   "outputs": [],
   "source": [
    "# Set up code checking\n",
    "from learntools.core import binder\n",
    "binder.bind(globals())\n",
    "from learntools.machine_learning.ex7 import *\n",
    "\n",
    "# Set up filepaths\n",
    "import os\n",
    "if not os.path.exists(\"../input/train.csv\"):\n",
    "    os.symlink(\"../input/home-data-for-ml-course/train.csv\", \"../input/train.csv\")  \n",
    "    os.symlink(\"../input/home-data-for-ml-course/test.csv\", \"../input/test.csv\") "
   ]
  },
  {
   "cell_type": "markdown",
   "id": "8f2db9a8",
   "metadata": {
    "papermill": {
     "duration": 0.018406,
     "end_time": "2022-01-17T04:58:11.077827",
     "exception": false,
     "start_time": "2022-01-17T04:58:11.059421",
     "status": "completed"
    },
    "tags": []
   },
   "source": [
    "Here's some of the code you've written so far. Start by running it again."
   ]
  },
  {
   "cell_type": "code",
   "execution_count": null,
   "id": "730743c6",
   "metadata": {
    "papermill": {
     "duration": 0.019212,
     "end_time": "2022-01-17T04:58:11.115297",
     "exception": false,
     "start_time": "2022-01-17T04:58:11.096085",
     "status": "completed"
    },
    "tags": []
   },
   "outputs": [],
   "source": []
  },
  {
   "cell_type": "code",
   "execution_count": 2,
   "id": "e6fa2544",
   "metadata": {
    "execution": {
     "iopub.execute_input": "2022-01-17T04:58:11.156155Z",
     "iopub.status.busy": "2022-01-17T04:58:11.155097Z",
     "iopub.status.idle": "2022-01-17T04:58:19.132231Z",
     "shell.execute_reply": "2022-01-17T04:58:19.132767Z",
     "shell.execute_reply.started": "2022-01-17T04:54:17.955781Z"
    },
    "papermill": {
     "duration": 7.999368,
     "end_time": "2022-01-17T04:58:19.132943",
     "exception": false,
     "start_time": "2022-01-17T04:58:11.133575",
     "status": "completed"
    },
    "tags": []
   },
   "outputs": [
    {
     "data": {
      "text/html": [
       "<style type='text/css'>\n",
       ".datatable table.frame { margin-bottom: 0; }\n",
       ".datatable table.frame thead { border-bottom: none; }\n",
       ".datatable table.frame tr.coltypes td {  color: #FFFFFF;  line-height: 6px;  padding: 0 0.5em;}\n",
       ".datatable .bool    { background: #DDDD99; }\n",
       ".datatable .object  { background: #565656; }\n",
       ".datatable .int     { background: #5D9E5D; }\n",
       ".datatable .float   { background: #4040CC; }\n",
       ".datatable .str     { background: #CC4040; }\n",
       ".datatable .time    { background: #40CC40; }\n",
       ".datatable .row_index {  background: var(--jp-border-color3);  border-right: 1px solid var(--jp-border-color0);  color: var(--jp-ui-font-color3);  font-size: 9px;}\n",
       ".datatable .frame tbody td { text-align: left; }\n",
       ".datatable .frame tr.coltypes .row_index {  background: var(--jp-border-color0);}\n",
       ".datatable th:nth-child(2) { padding-left: 12px; }\n",
       ".datatable .hellipsis {  color: var(--jp-cell-editor-border-color);}\n",
       ".datatable .vellipsis {  background: var(--jp-layout-color0);  color: var(--jp-cell-editor-border-color);}\n",
       ".datatable .na {  color: var(--jp-cell-editor-border-color);  font-size: 80%;}\n",
       ".datatable .sp {  opacity: 0.25;}\n",
       ".datatable .footer { font-size: 9px; }\n",
       ".datatable .frame_dimensions {  background: var(--jp-border-color3);  border-top: 1px solid var(--jp-border-color0);  color: var(--jp-ui-font-color3);  display: inline-block;  opacity: 0.6;  padding: 1px 10px 1px 5px;}\n",
       "</style>\n"
      ],
      "text/plain": [
       "<IPython.core.display.HTML object>"
      ]
     },
     "metadata": {},
     "output_type": "display_data"
    }
   ],
   "source": [
    "import pandas as pd\n",
    "from sklearn.feature_selection import mutual_info_regression\n",
    "from sklearn.ensemble import RandomForestRegressor\n",
    "from sklearn.metrics import mean_absolute_error\n",
    "from sklearn.model_selection import train_test_split\n",
    "import eli5\n",
    "from eli5.sklearn import PermutationImportance\n",
    "from sklearn.metrics import accuracy_score\n",
    "from sklearn.linear_model import LinearRegression\n",
    "from xgboost import XGBRegressor\n",
    "from sklearn.impute import SimpleImputer\n",
    "import seaborn as sns\n",
    "from sklearn.model_selection import GridSearchCV\n",
    "from sklearn.preprocessing import OrdinalEncoder\n",
    "from sklearn.preprocessing import OneHotEncoder\n",
    "import numpy as np\n",
    "\n",
    "def make_mi_scores(X, y, discrete_features):\n",
    "    mi_scores = mutual_info_regression(X, y, discrete_features=discrete_features)\n",
    "    mi_scores = pd.Series(mi_scores, name=\"MI Scores\", index=X.columns)\n",
    "    mi_scores = mi_scores.sort_values(ascending=False)\n",
    "    return mi_scores\n",
    "\n",
    "def split_dataset(X, y):\n",
    "    train_X, val_X, train_y, val_y = train_test_split(X,y,random_state=1)\n",
    "    return  train_X, val_X, train_y, val_y\n",
    "\n",
    "\n",
    "\n",
    "def catToNum(reduced_x_my_data,algo):\n",
    "    selectColumns=[]\n",
    "    count=0\n",
    "    selCol=[colname for colname in reduced_x_my_data.select_dtypes(\"object\")]\n",
    "    if(algo=='factorize'):\n",
    "        for colname in reduced_x_my_data.select_dtypes(\"object\"):\n",
    "            selectColumns.append(colname)\n",
    "            count=count+1\n",
    "            reduced_x_my_data[colname], labels = reduced_x_my_data[colname].factorize()\n",
    "        print(\"\\n Number of categorical features converted to int using factorize= {}\".format(count))\n",
    "        print('\\n After cat to Num convertstion, below are the columns \\n')\n",
    "        print(\"{}\".format(selectColumns))\n",
    "        return reduced_x_my_data\n",
    "    elif(algo=='label'):\n",
    "        for colname in reduced_x_my_data.select_dtypes(\"object\"):\n",
    "            selectColumns.append(colname)\n",
    "            count=count+1\n",
    "            reduced_x_my_data[colname] = reduced_x_my_data[colname].astype(\"category\").cat.codes()\n",
    "        print(\"\\n Number of categorical features converted to int using Label Encoding = {}\".format(count))\n",
    "        print('\\n After cat to Num convertstion, below are the columns \\n')\n",
    "        print(\"{}\".format(selectColumns))\n",
    "        return reduced_x_my_data\n",
    "    elif(algo=='ordinal'):\n",
    "        ordinalencoder=OneHotEncoder(categories=selCol,handle_unknown=\"ignore\")\n",
    "        reduced_x_my_data[selCol] = ordinalencoder.fit_transform(reduced_x_my_data[selCol])\n",
    "        for colname in reduced_x_my_data.select_dtypes(\"object\"):\n",
    "            selectColumns.append(colname)\n",
    "            count=count+1\n",
    "            #reduced_x_my_data[colname] = ordinal_encoder.fit_transform(X[colname])\n",
    "        print(\"\\n Number of categorical features converted to int using Label Encoding = {}\".format(count))\n",
    "        print('\\n After cat to Num convertstion, below are the columns \\n')\n",
    "        print(\"{}\".format(selectColumns))\n",
    "        return reduced_x_my_data\n",
    "       \n",
    "    \n",
    "\n",
    "def handleNullValues(X_df,algo):\n",
    "    cols_with_missing = [col for col in X_df.columns if X_df[col].isnull().any()]\n",
    "    print('\\n handleNullValues : Below are cols with missing values for df with shape of df {}'.format(X_df.shape))\n",
    "    print('\\n Columns with msising values : {}'.format(len(cols_with_missing)))\n",
    "    if(len(cols_with_missing)==0):\n",
    "        print('\\n NO MISSING VALUES IN COLUMNS .. CONGRATS ! \\n')\n",
    "    print(cols_with_missing)\n",
    "    if algo=='impute':\n",
    "        # Imputation\n",
    "        my_imputer = SimpleImputer()\n",
    "        imputed_X_df = pd.DataFrame(my_imputer.fit_transform(X_df))\n",
    "        print(\"\\n handleNullValue with imputer : shape of imputed df {}\".format(imputed_X_df.shape))\n",
    "        # Imputation removed column names; put them back\n",
    "        imputed_X_df.columns = X_df.columns\n",
    "        return imputed_X_df\n",
    "    elif algo=='drop' : # remove col - approach 1 \n",
    "        reduced_X_df = X_df.drop(cols_with_missing,axis=1)\n",
    "        print(\"\\n handleNullValue with drop : shape of dropped coln df {}\".format(reduced_X_df.shape))\n",
    "        return reduced_X_df\n",
    "    else:\n",
    "        print('\\n \\n NO COLUMNS MISSING VALUES REMOVED \\n \\n')\n",
    "        return X_df\n",
    "    \n",
    "def score_dataset_rf(X_train, X_valid, y_train, y_valid):\n",
    "    model = RandomForestRegressor(n_estimators=10, random_state=0)\n",
    "    model.fit(X_train, y_train)\n",
    "    print(model.score(X_valid,y_valid))\n",
    "    preds = model.predict(X_valid)\n",
    "    explainModel(X_valid,y_valid,model)\n",
    "    mae=mean_absolute_error(y_valid, preds)\n",
    "    print('Random Forest Model Scored with MAE {}'.format(mae))\n",
    "    return model,mae\n",
    "\n",
    "       \n",
    "def score_dataset_linear(X_train, X_valid, y_train, y_valid):\n",
    "    print('Linear Model \\n')\n",
    "    model = LinearRegression()\n",
    "    model.fit(X_train, y_train)\n",
    "    print(model.score(X_valid,y_valid))\n",
    "    preds = model.predict(X_valid)\n",
    "    explainModel(X_valid,y_valid,model)\n",
    "    mae=mean_absolute_error(y_valid, preds)\n",
    "    print('Linear Model Scored with MAE {}'.format(mae))\n",
    "    return model,mae\n",
    "\n",
    "def score_dataset_boost(X_train, X_valid, y_train, y_valid):\n",
    "    \"\"\"model = XGBRegressor(gamma=1,                \n",
    "    learning_rate=0.01,\n",
    "    max_depth=3,\n",
    "    n_estimators=500,                                                                    \n",
    "    subsample=0.6,\n",
    "    random_state=34)    \"\"\"\n",
    "   # model.fit(X_train, y_train)\n",
    "    #print(model.score(X_valid,y_valid))\n",
    "    \"\"\" params = { 'max_depth': [3,6,10],\n",
    "           'learning_rate': [0.01, 0.05, 0.1],\n",
    "           'n_estimators': [100, 500, 1000],\n",
    "           'colsample_bytree': [0.3, 0.7]}\n",
    "    xgbr = XGBRegressor(seed = 20)\n",
    "    clf = GridSearchCV(estimator=xgbr, \n",
    "                   param_grid=params,\n",
    "                   scoring='neg_mean_absolute_error', \n",
    "                   verbose=1)\n",
    "    clf.fit(X_train, y_train)\n",
    "    print(\"Best parameters:\", clf.best_params_)\n",
    "    print(\"Lowest MAE: \", (-clf.best_score_)**(1/2.0))\"\"\"\n",
    "    \n",
    "    model = XGBRegressor(colsample_bytree=0.3, \n",
    "                         learning_rate= 0.01, \n",
    "                         max_depth= 6, \n",
    "                         n_estimators= 1000)\n",
    "    model.fit(X_train, y_train)\n",
    "    preds = model.predict(X_valid)\n",
    "    explainModel(X_valid,y_valid,model)\n",
    "    mae=mean_absolute_error(y_valid, preds)\n",
    "    print('Boost Model Scored with MAE {}'.format(mae))\n",
    "    return model,mae\n",
    "\n",
    "def explainModel(X_valid, y_valid,model,algo='PermImp'):\n",
    "     if algo=='PermImp':\n",
    "        print('\\nExplaining Model with ' + algo + '\\n')\n",
    "        #explain model\n",
    "        perm = PermutationImportance(model, random_state=1).fit(X_valid, y_valid)\n",
    "        # extract feature names \n",
    "        feature_names= [col for col in X_valid.columns]\n",
    "         #not working\n",
    "        #eli5.show_weights(perm, feature_names=feature_names) #= X_valid.columns.tolist())\n",
    "        # use this to adjust features to be used\n",
    "        print(eli5.format_as_text(eli5.explain_weights(model,top=15,feature_names=feature_names),show=('method', 'description', 'transition_features', 'targets', 'feature_importances', 'decision_tree'), highlight_spaces=None, show_feature_values=False))\n",
    "    \n",
    "\n",
    "        \n",
    "    "
   ]
  },
  {
   "cell_type": "markdown",
   "id": "b685870d",
   "metadata": {
    "papermill": {
     "duration": 0.018944,
     "end_time": "2022-01-17T04:58:19.171711",
     "exception": false,
     "start_time": "2022-01-17T04:58:19.152767",
     "status": "completed"
    },
    "tags": []
   },
   "source": [
    "# Train a model for the competition\n",
    "\n",
    "The code cell above trains a Random Forest model on **`train_X`** and **`train_y`**.  \n",
    "\n",
    "Use the code cell below to build a Random Forest model and train it on all of **`X`** and **`y`**."
   ]
  },
  {
   "cell_type": "markdown",
   "id": "b8002a70",
   "metadata": {
    "papermill": {
     "duration": 0.019894,
     "end_time": "2022-01-17T04:58:19.210506",
     "exception": false,
     "start_time": "2022-01-17T04:58:19.190612",
     "status": "completed"
    },
    "tags": []
   },
   "source": [
    "Now, read the file of \"test\" data, and apply your model to make predictions."
   ]
  },
  {
   "cell_type": "code",
   "execution_count": 3,
   "id": "02871fb5",
   "metadata": {
    "execution": {
     "iopub.execute_input": "2022-01-17T04:58:19.261123Z",
     "iopub.status.busy": "2022-01-17T04:58:19.260479Z",
     "iopub.status.idle": "2022-01-17T04:58:26.477135Z",
     "shell.execute_reply": "2022-01-17T04:58:26.477622Z",
     "shell.execute_reply.started": "2022-01-17T04:54:17.990671Z"
    },
    "papermill": {
     "duration": 7.248677,
     "end_time": "2022-01-17T04:58:26.477791",
     "exception": false,
     "start_time": "2022-01-17T04:58:19.229114",
     "status": "completed"
    },
    "tags": []
   },
   "outputs": [
    {
     "name": "stdout",
     "output_type": "stream",
     "text": [
      "shape (1460, 80)\n",
      "shape (1460,)\n",
      "\n",
      " Number of categorical features converted to int using factorize= 43\n",
      "\n",
      " After cat to Num convertstion, below are the columns \n",
      "\n",
      "['MSZoning', 'Street', 'Alley', 'LotShape', 'LandContour', 'Utilities', 'LotConfig', 'LandSlope', 'Neighborhood', 'Condition1', 'Condition2', 'BldgType', 'HouseStyle', 'RoofStyle', 'RoofMatl', 'Exterior1st', 'Exterior2nd', 'MasVnrType', 'ExterQual', 'ExterCond', 'Foundation', 'BsmtQual', 'BsmtCond', 'BsmtExposure', 'BsmtFinType1', 'BsmtFinType2', 'Heating', 'HeatingQC', 'CentralAir', 'Electrical', 'KitchenQual', 'Functional', 'FireplaceQu', 'GarageType', 'GarageFinish', 'GarageQual', 'GarageCond', 'PavedDrive', 'PoolQC', 'Fence', 'MiscFeature', 'SaleType', 'SaleCondition']\n",
      "\n",
      " handleNullValues : Below are cols with missing values for df with shape of df (1460, 80)\n",
      "\n",
      " Columns with msising values : 3\n",
      "['LotFrontage', 'MasVnrArea', 'GarageYrBlt']\n",
      "\n",
      " handleNullValue with imputer : shape of imputed df (1460, 80)\n",
      "shape123 (1460, 80)\n"
     ]
    },
    {
     "data": {
      "image/png": "[encoded data removed]",
      "text/plain": [
       "<Figure size 1800x1500 with 1 Axes>"
      ]
     },
     "metadata": {
      "needs_background": "light"
     },
     "output_type": "display_data"
    },
    {
     "data": {
      "image/png": "[encoded data removed]",
      "text/plain": [
       "<Figure size 360x360 with 1 Axes>"
      ]
     },
     "metadata": {
      "needs_background": "light"
     },
     "output_type": "display_data"
    },
    {
     "data": {
      "image/png": "[encoded data removed]",
      "text/plain": [
       "<Figure size 426.875x360 with 1 Axes>"
      ]
     },
     "metadata": {
      "needs_background": "light"
     },
     "output_type": "display_data"
    },
    {
     "data": {
      "image/png": "[encoded data removed]",
      "text/plain": [
       "<Figure size 428x360 with 1 Axes>"
      ]
     },
     "metadata": {
      "needs_background": "light"
     },
     "output_type": "display_data"
    }
   ],
   "source": [
    "import matplotlib.pyplot as plt\n",
    "import numpy as np\n",
    "import pandas as pd\n",
    "import seaborn as sns\n",
    "# Utility functions from Tutorial\n",
    "def make_mi_scores_1(X, y):\n",
    "    X = X.copy()\n",
    "    for colname in X.select_dtypes([\"object\", \"category\"]):\n",
    "        X[colname], _ = X[colname].factorize()\n",
    "    # All discrete features should now have integer dtypes\n",
    "    discrete_features = [pd.api.types.is_integer_dtype(t) for t in X.dtypes]\n",
    "    mi_scores = mutual_info_regression(X, y, discrete_features=discrete_features, random_state=0)\n",
    "    mi_scores = pd.Series(mi_scores, name=\"MI Scores\", index=X.columns)\n",
    "    mi_scores = mi_scores.sort_values(ascending=False)\n",
    "    return mi_scores\n",
    "\n",
    "\n",
    "def plot_mi_scores(scores):\n",
    "    scores = scores.sort_values(ascending=True)\n",
    "    width = np.arange(len(scores))\n",
    "    ticks = list(scores.index)\n",
    "    plt.barh(width, scores)\n",
    "    plt.yticks(width, ticks)\n",
    "    plt.title(\"Mutual Information Scores\")\n",
    "    \n",
    "    #discrete_features = X.dtypes == int [pd.api.types.is_integer_dtype(t) for t in X.dtypes]\n",
    "    #X.dtypes == int #['MSZoning', 'Street', 'LotShape', 'LandContour', 'Utilities', 'LotConfig', 'LandSlope', 'Neighborhood', 'Condition1', 'Condition2', 'BldgType', 'HouseStyle', 'RoofStyle', 'RoofMatl', 'Exterior1st', 'Exterior2nd', 'ExterQual', 'ExterCond', 'Foundation', 'Heating', 'HeatingQC', 'CentralAir', 'KitchenQual', 'Functional', 'PavedDrive', 'SaleType', 'SaleCondition']\n",
    "#X.dtypes == int\n",
    "\n",
    "#print(\"DIS{}\".format(discrete_features.shape))\n",
    "iowa_file_path = '../input/train.csv'\n",
    "home_data = pd.read_csv(iowa_file_path)\n",
    "X = home_data.copy()\n",
    "y=X.pop('SalePrice')\n",
    "print(\"shape {}\".format(X.shape))\n",
    "print(\"shape {}\".format(y.shape))\n",
    "c=catToNum(X,'factorize')\n",
    "c=handleNullValues(c,'impute')\n",
    "print(\"shape123 {}\".format(c.shape))\n",
    "discrete_features = X.dtypes == int\n",
    "mi_scores = make_mi_scores_1(c, y)\n",
    "mi_scores[0:35]\n",
    "plt.figure(dpi=100, figsize=(18, 15))\n",
    "plot_mi_scores(mi_scores[0:80])\n",
    "sns.relplot(x=\"MiscFeature\", y=\"SalePrice\", data=home_data);\n",
    "sns.lmplot(x=\"MiscVal\", y=\"SalePrice\", hue=\"OverallQual\", data=home_data);\n",
    "sns.lmplot(x=\"OverallCond\", y=\"SalePrice\", hue=\"MiscFeature\", data=home_data);\n",
    "\n"
   ]
  },
  {
   "cell_type": "code",
   "execution_count": 4,
   "id": "852e07ca",
   "metadata": {
    "execution": {
     "iopub.execute_input": "2022-01-17T04:58:26.531808Z",
     "iopub.status.busy": "2022-01-17T04:58:26.531086Z",
     "iopub.status.idle": "2022-01-17T04:58:26.537367Z",
     "shell.execute_reply": "2022-01-17T04:58:26.537915Z",
     "shell.execute_reply.started": "2022-01-17T04:54:24.659105Z"
    },
    "papermill": {
     "duration": 0.035017,
     "end_time": "2022-01-17T04:58:26.538083",
     "exception": false,
     "start_time": "2022-01-17T04:58:26.503066",
     "status": "completed"
    },
    "tags": []
   },
   "outputs": [
    {
     "data": {
      "text/plain": [
       "1406"
      ]
     },
     "execution_count": 4,
     "metadata": {},
     "output_type": "execute_result"
    }
   ],
   "source": [
    "c['MiscFeature'].head(50)\n",
    "home_data['MiscFeature'].isnull().sum()"
   ]
  },
  {
   "cell_type": "markdown",
   "id": "73778ddc",
   "metadata": {
    "papermill": {
     "duration": 0.025161,
     "end_time": "2022-01-17T04:58:26.588832",
     "exception": false,
     "start_time": "2022-01-17T04:58:26.563671",
     "status": "completed"
    },
    "tags": []
   },
   "source": []
  },
  {
   "cell_type": "code",
   "execution_count": 5,
   "id": "5f6f3ead",
   "metadata": {
    "execution": {
     "iopub.execute_input": "2022-01-17T04:58:26.642914Z",
     "iopub.status.busy": "2022-01-17T04:58:26.642362Z",
     "iopub.status.idle": "2022-01-17T04:58:26.649097Z",
     "shell.execute_reply": "2022-01-17T04:58:26.649593Z",
     "shell.execute_reply.started": "2022-01-17T04:54:24.668500Z"
    },
    "papermill": {
     "duration": 0.035225,
     "end_time": "2022-01-17T04:58:26.649756",
     "exception": false,
     "start_time": "2022-01-17T04:58:26.614531",
     "status": "completed"
    },
    "tags": []
   },
   "outputs": [
    {
     "data": {
      "text/plain": [
       "MasVnrArea       0.104017\n",
       "HalfBath         0.093758\n",
       "HouseStyle       0.091878\n",
       "SaleCondition    0.088265\n",
       "LotShape         0.082245\n",
       "BedroomAbvGr     0.074768\n",
       "BsmtExposure     0.073571\n",
       "GarageCond       0.072283\n",
       "SaleType         0.071847\n",
       "GarageQual       0.069979\n",
       "CentralAir       0.066337\n",
       "PavedDrive       0.055042\n",
       "Electrical       0.053940\n",
       "Fence            0.051301\n",
       "BsmtCond         0.051118\n",
       "BldgType         0.048358\n",
       "BsmtFinType2     0.034755\n",
       "Condition1       0.023815\n",
       "LotConfig        0.022481\n",
       "EnclosedPorch    0.021531\n",
       "BsmtFullBath     0.021159\n",
       "BsmtHalfBath     0.020801\n",
       "BsmtFinSF2       0.019451\n",
       "LandContour      0.018843\n",
       "ExterCond        0.017244\n",
       "Heating          0.016070\n",
       "ScreenPorch      0.013825\n",
       "Utilities        0.012895\n",
       "LowQualFinSF     0.011075\n",
       "Alley            0.006978\n",
       "MiscVal          0.004953\n",
       "PoolQC           0.004860\n",
       "Functional       0.004192\n",
       "RoofStyle        0.003858\n",
       "RoofMatl         0.002650\n",
       "KitchenAbvGr     0.000312\n",
       "Condition2       0.000000\n",
       "YrSold           0.000000\n",
       "MoSold           0.000000\n",
       "PoolArea         0.000000\n",
       "MiscFeature      0.000000\n",
       "LandSlope        0.000000\n",
       "3SsnPorch        0.000000\n",
       "Street           0.000000\n",
       "Id               0.000000\n",
       "Name: MI Scores, dtype: float64"
      ]
     },
     "execution_count": 5,
     "metadata": {},
     "output_type": "execute_result"
    }
   ],
   "source": [
    "mi_scores[35:80]"
   ]
  },
  {
   "cell_type": "code",
   "execution_count": 6,
   "id": "9300100b",
   "metadata": {
    "execution": {
     "iopub.execute_input": "2022-01-17T04:58:26.704468Z",
     "iopub.status.busy": "2022-01-17T04:58:26.703810Z",
     "iopub.status.idle": "2022-01-17T04:58:26.770122Z",
     "shell.execute_reply": "2022-01-17T04:58:26.770602Z",
     "shell.execute_reply.started": "2022-01-17T04:54:24.685825Z"
    },
    "papermill": {
     "duration": 0.095471,
     "end_time": "2022-01-17T04:58:26.770806",
     "exception": false,
     "start_time": "2022-01-17T04:58:26.675335",
     "status": "completed"
    },
    "scrolled": true,
    "tags": []
   },
   "outputs": [],
   "source": [
    "iowa_file_path = '../input/train.csv'\n",
    "home_data = pd.read_csv(iowa_file_path)\n",
    "X = home_data.copy()\n",
    "y= X.pop('SalePrice')\n",
    "X.drop([\"YrSold\"],axis=1,inplace=True)\n",
    "X.drop([\"MoSold\"],axis=1,inplace=True)\n",
    "X.drop([\"RoofMatl\"],axis=1,inplace=True)\n",
    "X.drop([\"Condition2\"],axis=1,inplace=True)\n",
    "X.drop([\"PoolQC\"],axis=1,inplace=True)\n",
    "X.drop([\"SaleType\"],axis=1,inplace=True)\n",
    "X.drop([\"Street\"],axis=1,inplace=True)\n",
    "X.drop([\"3SsnPorch\"],axis=1,inplace=True)\n",
    "X.drop([\"PoolArea\"],axis=1,inplace=True)\n",
    "\n",
    "\n",
    "\n",
    "test_data_path = '../input/test.csv'\n",
    "test_data = pd.read_csv(test_data_path)\n"
   ]
  },
  {
   "cell_type": "code",
   "execution_count": 7,
   "id": "fdd2de47",
   "metadata": {
    "execution": {
     "iopub.execute_input": "2022-01-17T04:58:26.826973Z",
     "iopub.status.busy": "2022-01-17T04:58:26.826337Z",
     "iopub.status.idle": "2022-01-17T04:58:26.830843Z",
     "shell.execute_reply": "2022-01-17T04:58:26.831289Z",
     "shell.execute_reply.started": "2022-01-17T04:54:24.749230Z"
    },
    "papermill": {
     "duration": 0.03361,
     "end_time": "2022-01-17T04:58:26.831474",
     "exception": false,
     "start_time": "2022-01-17T04:58:26.797864",
     "status": "completed"
    },
    "tags": []
   },
   "outputs": [
    {
     "data": {
      "text/plain": [
       "(1460, 71)"
      ]
     },
     "execution_count": 7,
     "metadata": {},
     "output_type": "execute_result"
    }
   ],
   "source": [
    "X.shape"
   ]
  },
  {
   "cell_type": "code",
   "execution_count": 8,
   "id": "56298c8d",
   "metadata": {
    "execution": {
     "iopub.execute_input": "2022-01-17T04:58:26.887113Z",
     "iopub.status.busy": "2022-01-17T04:58:26.886522Z",
     "iopub.status.idle": "2022-01-17T04:58:26.904498Z",
     "shell.execute_reply": "2022-01-17T04:58:26.904983Z",
     "shell.execute_reply.started": "2022-01-17T04:54:24.761081Z"
    },
    "papermill": {
     "duration": 0.047339,
     "end_time": "2022-01-17T04:58:26.905149",
     "exception": false,
     "start_time": "2022-01-17T04:58:26.857810",
     "status": "completed"
    },
    "tags": []
   },
   "outputs": [],
   "source": [
    "from sklearn.ensemble import RandomForestRegressor\n",
    "from sklearn.pipeline import Pipeline\n",
    "from sklearn.impute import SimpleImputer\n",
    "from sklearn.pipeline import make_pipeline\n",
    "from sklearn.compose import make_column_selector\n",
    "from sklearn.preprocessing import OrdinalEncoder\n",
    "from sklearn.compose import make_column_transformer\n",
    "from sklearn.preprocessing import OneHotEncoder,StandardScaler\n",
    "from sklearn.compose import ColumnTransformer\n",
    "numeric_features = X.select_dtypes(include=['int64', 'float64']).columns\n",
    "categorical_features = X.select_dtypes(include=['object']).columns\n",
    "\n",
    "numeric_transformer = Pipeline(steps=[\n",
    "       ('imputer', SimpleImputer(strategy='constant', fill_value=0))\n",
    "      ,('scaler', StandardScaler())\n",
    "])\n",
    "categorical_transformer = Pipeline(steps=[\n",
    "       ('imputer', SimpleImputer(strategy='constant'))\n",
    "      ,('encoder', OneHotEncoder(handle_unknown = 'ignore'))\n",
    "])\n",
    "\n",
    "preprocessor = ColumnTransformer(\n",
    "   transformers=[\n",
    "    ('numeric', numeric_transformer, numeric_features)\n",
    "   ,('categorical', categorical_transformer, categorical_features)\n",
    "]) \n",
    "\n",
    "from sklearn.ensemble import RandomForestRegressor\n",
    "my_pipeline = Pipeline(steps = [\n",
    "               ('preprocessor', preprocessor)\n",
    "              ,('regressor',RandomForestRegressor(n_estimators=10,random_state=0))\n",
    "           ])\n",
    "\n",
    "model_boost = XGBRegressor(colsample_bytree=0.4, #0.3\n",
    "                         learning_rate= 0.01, \n",
    "                         max_depth= 5, \n",
    "                         n_estimators= 1000) #1000\n",
    "xgbr = XGBRegressor(seed = 20)   \n",
    "my_boost_pipeline = Pipeline(steps = [\n",
    "               ('preprocessor', preprocessor)\n",
    "              ,('boost',model_boost)\n",
    "           ])\n",
    "\n"
   ]
  },
  {
   "cell_type": "code",
   "execution_count": 9,
   "id": "981abbd4",
   "metadata": {
    "execution": {
     "iopub.execute_input": "2022-01-17T04:58:26.961023Z",
     "iopub.status.busy": "2022-01-17T04:58:26.960088Z",
     "iopub.status.idle": "2022-01-17T04:58:26.964748Z",
     "shell.execute_reply": "2022-01-17T04:58:26.965182Z",
     "shell.execute_reply.started": "2022-01-17T04:54:24.780471Z"
    },
    "papermill": {
     "duration": 0.034123,
     "end_time": "2022-01-17T04:58:26.965343",
     "exception": false,
     "start_time": "2022-01-17T04:58:26.931220",
     "status": "completed"
    },
    "tags": []
   },
   "outputs": [
    {
     "data": {
      "text/plain": [
       "(1460, 71)"
      ]
     },
     "execution_count": 9,
     "metadata": {},
     "output_type": "execute_result"
    }
   ],
   "source": [
    "X.shape"
   ]
  },
  {
   "cell_type": "code",
   "execution_count": 10,
   "id": "3e4d1ce7",
   "metadata": {
    "execution": {
     "iopub.execute_input": "2022-01-17T04:58:27.021886Z",
     "iopub.status.busy": "2022-01-17T04:58:27.020934Z",
     "iopub.status.idle": "2022-01-17T04:58:52.500519Z",
     "shell.execute_reply": "2022-01-17T04:58:52.499949Z",
     "shell.execute_reply.started": "2022-01-17T04:54:24.799453Z"
    },
    "papermill": {
     "duration": 25.509088,
     "end_time": "2022-01-17T04:58:52.500655",
     "exception": false,
     "start_time": "2022-01-17T04:58:26.991567",
     "status": "completed"
    },
    "tags": []
   },
   "outputs": [
    {
     "name": "stdout",
     "output_type": "stream",
     "text": [
      "Boost Average MAE score: [14643.40138057 15968.62707352 15414.38124732 13481.74673587\n",
      " 15453.11635809]\n",
      "Boost Average MAE 14992.254559075343\n"
     ]
    },
    {
     "data": {
      "text/html": [
       "<div>\n",
       "<style scoped>\n",
       "    .dataframe tbody tr th:only-of-type {\n",
       "        vertical-align: middle;\n",
       "    }\n",
       "\n",
       "    .dataframe tbody tr th {\n",
       "        vertical-align: top;\n",
       "    }\n",
       "\n",
       "    .dataframe thead th {\n",
       "        text-align: right;\n",
       "    }\n",
       "</style>\n",
       "<table border=\"1\" class=\"dataframe\">\n",
       "  <thead>\n",
       "    <tr style=\"text-align: right;\">\n",
       "      <th></th>\n",
       "      <th>Id</th>\n",
       "      <th>MSSubClass</th>\n",
       "      <th>MSZoning</th>\n",
       "      <th>LotFrontage</th>\n",
       "      <th>LotArea</th>\n",
       "      <th>Alley</th>\n",
       "      <th>LotShape</th>\n",
       "      <th>LandContour</th>\n",
       "      <th>Utilities</th>\n",
       "      <th>LotConfig</th>\n",
       "      <th>...</th>\n",
       "      <th>GarageCond</th>\n",
       "      <th>PavedDrive</th>\n",
       "      <th>WoodDeckSF</th>\n",
       "      <th>OpenPorchSF</th>\n",
       "      <th>EnclosedPorch</th>\n",
       "      <th>ScreenPorch</th>\n",
       "      <th>Fence</th>\n",
       "      <th>MiscFeature</th>\n",
       "      <th>MiscVal</th>\n",
       "      <th>SaleCondition</th>\n",
       "    </tr>\n",
       "  </thead>\n",
       "  <tbody>\n",
       "    <tr>\n",
       "      <th>0</th>\n",
       "      <td>1</td>\n",
       "      <td>60</td>\n",
       "      <td>RL</td>\n",
       "      <td>65.0</td>\n",
       "      <td>8450</td>\n",
       "      <td>NaN</td>\n",
       "      <td>Reg</td>\n",
       "      <td>Lvl</td>\n",
       "      <td>AllPub</td>\n",
       "      <td>Inside</td>\n",
       "      <td>...</td>\n",
       "      <td>TA</td>\n",
       "      <td>Y</td>\n",
       "      <td>0</td>\n",
       "      <td>61</td>\n",
       "      <td>0</td>\n",
       "      <td>0</td>\n",
       "      <td>NaN</td>\n",
       "      <td>NaN</td>\n",
       "      <td>0</td>\n",
       "      <td>Normal</td>\n",
       "    </tr>\n",
       "    <tr>\n",
       "      <th>1</th>\n",
       "      <td>2</td>\n",
       "      <td>20</td>\n",
       "      <td>RL</td>\n",
       "      <td>80.0</td>\n",
       "      <td>9600</td>\n",
       "      <td>NaN</td>\n",
       "      <td>Reg</td>\n",
       "      <td>Lvl</td>\n",
       "      <td>AllPub</td>\n",
       "      <td>FR2</td>\n",
       "      <td>...</td>\n",
       "      <td>TA</td>\n",
       "      <td>Y</td>\n",
       "      <td>298</td>\n",
       "      <td>0</td>\n",
       "      <td>0</td>\n",
       "      <td>0</td>\n",
       "      <td>NaN</td>\n",
       "      <td>NaN</td>\n",
       "      <td>0</td>\n",
       "      <td>Normal</td>\n",
       "    </tr>\n",
       "    <tr>\n",
       "      <th>2</th>\n",
       "      <td>3</td>\n",
       "      <td>60</td>\n",
       "      <td>RL</td>\n",
       "      <td>68.0</td>\n",
       "      <td>11250</td>\n",
       "      <td>NaN</td>\n",
       "      <td>IR1</td>\n",
       "      <td>Lvl</td>\n",
       "      <td>AllPub</td>\n",
       "      <td>Inside</td>\n",
       "      <td>...</td>\n",
       "      <td>TA</td>\n",
       "      <td>Y</td>\n",
       "      <td>0</td>\n",
       "      <td>42</td>\n",
       "      <td>0</td>\n",
       "      <td>0</td>\n",
       "      <td>NaN</td>\n",
       "      <td>NaN</td>\n",
       "      <td>0</td>\n",
       "      <td>Normal</td>\n",
       "    </tr>\n",
       "    <tr>\n",
       "      <th>3</th>\n",
       "      <td>4</td>\n",
       "      <td>70</td>\n",
       "      <td>RL</td>\n",
       "      <td>60.0</td>\n",
       "      <td>9550</td>\n",
       "      <td>NaN</td>\n",
       "      <td>IR1</td>\n",
       "      <td>Lvl</td>\n",
       "      <td>AllPub</td>\n",
       "      <td>Corner</td>\n",
       "      <td>...</td>\n",
       "      <td>TA</td>\n",
       "      <td>Y</td>\n",
       "      <td>0</td>\n",
       "      <td>35</td>\n",
       "      <td>272</td>\n",
       "      <td>0</td>\n",
       "      <td>NaN</td>\n",
       "      <td>NaN</td>\n",
       "      <td>0</td>\n",
       "      <td>Abnorml</td>\n",
       "    </tr>\n",
       "    <tr>\n",
       "      <th>4</th>\n",
       "      <td>5</td>\n",
       "      <td>60</td>\n",
       "      <td>RL</td>\n",
       "      <td>84.0</td>\n",
       "      <td>14260</td>\n",
       "      <td>NaN</td>\n",
       "      <td>IR1</td>\n",
       "      <td>Lvl</td>\n",
       "      <td>AllPub</td>\n",
       "      <td>FR2</td>\n",
       "      <td>...</td>\n",
       "      <td>TA</td>\n",
       "      <td>Y</td>\n",
       "      <td>192</td>\n",
       "      <td>84</td>\n",
       "      <td>0</td>\n",
       "      <td>0</td>\n",
       "      <td>NaN</td>\n",
       "      <td>NaN</td>\n",
       "      <td>0</td>\n",
       "      <td>Normal</td>\n",
       "    </tr>\n",
       "  </tbody>\n",
       "</table>\n",
       "<p>5 rows × 71 columns</p>\n",
       "</div>"
      ],
      "text/plain": [
       "   Id  MSSubClass MSZoning  LotFrontage  LotArea Alley LotShape LandContour  \\\n",
       "0   1          60       RL         65.0     8450   NaN      Reg         Lvl   \n",
       "1   2          20       RL         80.0     9600   NaN      Reg         Lvl   \n",
       "2   3          60       RL         68.0    11250   NaN      IR1         Lvl   \n",
       "3   4          70       RL         60.0     9550   NaN      IR1         Lvl   \n",
       "4   5          60       RL         84.0    14260   NaN      IR1         Lvl   \n",
       "\n",
       "  Utilities LotConfig  ... GarageCond PavedDrive WoodDeckSF OpenPorchSF  \\\n",
       "0    AllPub    Inside  ...         TA          Y          0          61   \n",
       "1    AllPub       FR2  ...         TA          Y        298           0   \n",
       "2    AllPub    Inside  ...         TA          Y          0          42   \n",
       "3    AllPub    Corner  ...         TA          Y          0          35   \n",
       "4    AllPub       FR2  ...         TA          Y        192          84   \n",
       "\n",
       "  EnclosedPorch  ScreenPorch  Fence  MiscFeature  MiscVal SaleCondition  \n",
       "0             0            0    NaN          NaN        0        Normal  \n",
       "1             0            0    NaN          NaN        0        Normal  \n",
       "2             0            0    NaN          NaN        0        Normal  \n",
       "3           272            0    NaN          NaN        0       Abnorml  \n",
       "4             0            0    NaN          NaN        0        Normal  \n",
       "\n",
       "[5 rows x 71 columns]"
      ]
     },
     "execution_count": 10,
     "metadata": {},
     "output_type": "execute_result"
    }
   ],
   "source": [
    "from sklearn.model_selection import cross_val_score\n",
    "from sklearn.model_selection import cross_validate\n",
    "\n",
    "X.head()\n",
    "\n",
    "#rf_model = my_pipeline.fit(X, y)\n",
    "\n",
    "#rf_scores = -1 * cross_val_score(my_pipeline, X, y, cv=5, scoring='neg_mean_absolute_error')\n",
    "#boos_scores = -1 * cross_val_scorec, X, y, cv=5, scoring='neg_mean_absolute_error')\n",
    "\n",
    "# Multiply by -1 since sklearn calculates *negative* MAE\n",
    "#scores = -1 * cross_val_score(my_pipeline, X, y,                              cv=5,                              scoring='neg_mean_absolute_error')\n",
    "\n",
    "#print(\"Average MAE score:\", rf_scores.mean())\n",
    "boost_scores = -1 * cross_val_score(my_boost_pipeline, X, y, cv=5, scoring='neg_mean_absolute_error')\n",
    "#boost_scores = -1 * cross_val_score(my_clf_pipeline, X, y, cv=5, scoring='neg_mean_absolute_error')\n",
    "print(\"Boost Average MAE score: {}\".format(boost_scores))\n",
    "print(\"Boost Average MAE {}\".format(boost_scores.mean()))\n",
    "X.head()\n"
   ]
  },
  {
   "cell_type": "markdown",
   "id": "1f1c6265",
   "metadata": {
    "papermill": {
     "duration": 0.028854,
     "end_time": "2022-01-17T04:58:52.556906",
     "exception": false,
     "start_time": "2022-01-17T04:58:52.528052",
     "status": "completed"
    },
    "tags": []
   },
   "source": [
    "Boost Average MAE score: 15077.821061643835"
   ]
  },
  {
   "cell_type": "markdown",
   "id": "daac9116",
   "metadata": {
    "papermill": {
     "duration": 0.026848,
     "end_time": "2022-01-17T04:58:52.611088",
     "exception": false,
     "start_time": "2022-01-17T04:58:52.584240",
     "status": "completed"
    },
    "tags": []
   },
   "source": [
    "Boost Average MAE score: [14699.77068172 15749.16806239 15663.18570741 13355.02125696\n",
    " 15582.52215325]"
   ]
  },
  {
   "cell_type": "code",
   "execution_count": 11,
   "id": "7f5043fa",
   "metadata": {
    "execution": {
     "iopub.execute_input": "2022-01-17T04:58:52.668591Z",
     "iopub.status.busy": "2022-01-17T04:58:52.667903Z",
     "iopub.status.idle": "2022-01-17T04:58:52.759747Z",
     "shell.execute_reply": "2022-01-17T04:58:52.759131Z",
     "shell.execute_reply.started": "2022-01-17T04:54:52.018720Z"
    },
    "papermill": {
     "duration": 0.121716,
     "end_time": "2022-01-17T04:58:52.759886",
     "exception": false,
     "start_time": "2022-01-17T04:58:52.638170",
     "status": "completed"
    },
    "tags": []
   },
   "outputs": [
    {
     "data": {
      "text/html": [
       "<div>\n",
       "<style scoped>\n",
       "    .dataframe tbody tr th:only-of-type {\n",
       "        vertical-align: middle;\n",
       "    }\n",
       "\n",
       "    .dataframe tbody tr th {\n",
       "        vertical-align: top;\n",
       "    }\n",
       "\n",
       "    .dataframe thead th {\n",
       "        text-align: right;\n",
       "    }\n",
       "</style>\n",
       "<table border=\"1\" class=\"dataframe\">\n",
       "  <thead>\n",
       "    <tr style=\"text-align: right;\">\n",
       "      <th></th>\n",
       "      <th>Id</th>\n",
       "      <th>MSSubClass</th>\n",
       "      <th>LotFrontage</th>\n",
       "      <th>LotArea</th>\n",
       "      <th>OverallQual</th>\n",
       "      <th>OverallCond</th>\n",
       "      <th>YearBuilt</th>\n",
       "      <th>YearRemodAdd</th>\n",
       "      <th>MasVnrArea</th>\n",
       "      <th>BsmtFinSF1</th>\n",
       "      <th>...</th>\n",
       "      <th>WoodDeckSF</th>\n",
       "      <th>OpenPorchSF</th>\n",
       "      <th>EnclosedPorch</th>\n",
       "      <th>3SsnPorch</th>\n",
       "      <th>ScreenPorch</th>\n",
       "      <th>PoolArea</th>\n",
       "      <th>MiscVal</th>\n",
       "      <th>MoSold</th>\n",
       "      <th>YrSold</th>\n",
       "      <th>SalePrice</th>\n",
       "    </tr>\n",
       "  </thead>\n",
       "  <tbody>\n",
       "    <tr>\n",
       "      <th>count</th>\n",
       "      <td>1460.000000</td>\n",
       "      <td>1460.000000</td>\n",
       "      <td>1201.000000</td>\n",
       "      <td>1460.000000</td>\n",
       "      <td>1460.000000</td>\n",
       "      <td>1460.000000</td>\n",
       "      <td>1460.000000</td>\n",
       "      <td>1460.000000</td>\n",
       "      <td>1452.000000</td>\n",
       "      <td>1460.000000</td>\n",
       "      <td>...</td>\n",
       "      <td>1460.000000</td>\n",
       "      <td>1460.000000</td>\n",
       "      <td>1460.000000</td>\n",
       "      <td>1460.000000</td>\n",
       "      <td>1460.000000</td>\n",
       "      <td>1460.000000</td>\n",
       "      <td>1460.000000</td>\n",
       "      <td>1460.000000</td>\n",
       "      <td>1460.000000</td>\n",
       "      <td>1460.000000</td>\n",
       "    </tr>\n",
       "    <tr>\n",
       "      <th>mean</th>\n",
       "      <td>730.500000</td>\n",
       "      <td>56.897260</td>\n",
       "      <td>70.049958</td>\n",
       "      <td>10516.828082</td>\n",
       "      <td>6.099315</td>\n",
       "      <td>5.575342</td>\n",
       "      <td>1971.267808</td>\n",
       "      <td>1984.865753</td>\n",
       "      <td>103.685262</td>\n",
       "      <td>443.639726</td>\n",
       "      <td>...</td>\n",
       "      <td>94.244521</td>\n",
       "      <td>46.660274</td>\n",
       "      <td>21.954110</td>\n",
       "      <td>3.409589</td>\n",
       "      <td>15.060959</td>\n",
       "      <td>2.758904</td>\n",
       "      <td>43.489041</td>\n",
       "      <td>6.321918</td>\n",
       "      <td>2007.815753</td>\n",
       "      <td>180921.195890</td>\n",
       "    </tr>\n",
       "    <tr>\n",
       "      <th>std</th>\n",
       "      <td>421.610009</td>\n",
       "      <td>42.300571</td>\n",
       "      <td>24.284752</td>\n",
       "      <td>9981.264932</td>\n",
       "      <td>1.382997</td>\n",
       "      <td>1.112799</td>\n",
       "      <td>30.202904</td>\n",
       "      <td>20.645407</td>\n",
       "      <td>181.066207</td>\n",
       "      <td>456.098091</td>\n",
       "      <td>...</td>\n",
       "      <td>125.338794</td>\n",
       "      <td>66.256028</td>\n",
       "      <td>61.119149</td>\n",
       "      <td>29.317331</td>\n",
       "      <td>55.757415</td>\n",
       "      <td>40.177307</td>\n",
       "      <td>496.123024</td>\n",
       "      <td>2.703626</td>\n",
       "      <td>1.328095</td>\n",
       "      <td>79442.502883</td>\n",
       "    </tr>\n",
       "    <tr>\n",
       "      <th>min</th>\n",
       "      <td>1.000000</td>\n",
       "      <td>20.000000</td>\n",
       "      <td>21.000000</td>\n",
       "      <td>1300.000000</td>\n",
       "      <td>1.000000</td>\n",
       "      <td>1.000000</td>\n",
       "      <td>1872.000000</td>\n",
       "      <td>1950.000000</td>\n",
       "      <td>0.000000</td>\n",
       "      <td>0.000000</td>\n",
       "      <td>...</td>\n",
       "      <td>0.000000</td>\n",
       "      <td>0.000000</td>\n",
       "      <td>0.000000</td>\n",
       "      <td>0.000000</td>\n",
       "      <td>0.000000</td>\n",
       "      <td>0.000000</td>\n",
       "      <td>0.000000</td>\n",
       "      <td>1.000000</td>\n",
       "      <td>2006.000000</td>\n",
       "      <td>34900.000000</td>\n",
       "    </tr>\n",
       "    <tr>\n",
       "      <th>25%</th>\n",
       "      <td>365.750000</td>\n",
       "      <td>20.000000</td>\n",
       "      <td>59.000000</td>\n",
       "      <td>7553.500000</td>\n",
       "      <td>5.000000</td>\n",
       "      <td>5.000000</td>\n",
       "      <td>1954.000000</td>\n",
       "      <td>1967.000000</td>\n",
       "      <td>0.000000</td>\n",
       "      <td>0.000000</td>\n",
       "      <td>...</td>\n",
       "      <td>0.000000</td>\n",
       "      <td>0.000000</td>\n",
       "      <td>0.000000</td>\n",
       "      <td>0.000000</td>\n",
       "      <td>0.000000</td>\n",
       "      <td>0.000000</td>\n",
       "      <td>0.000000</td>\n",
       "      <td>5.000000</td>\n",
       "      <td>2007.000000</td>\n",
       "      <td>129975.000000</td>\n",
       "    </tr>\n",
       "    <tr>\n",
       "      <th>50%</th>\n",
       "      <td>730.500000</td>\n",
       "      <td>50.000000</td>\n",
       "      <td>69.000000</td>\n",
       "      <td>9478.500000</td>\n",
       "      <td>6.000000</td>\n",
       "      <td>5.000000</td>\n",
       "      <td>1973.000000</td>\n",
       "      <td>1994.000000</td>\n",
       "      <td>0.000000</td>\n",
       "      <td>383.500000</td>\n",
       "      <td>...</td>\n",
       "      <td>0.000000</td>\n",
       "      <td>25.000000</td>\n",
       "      <td>0.000000</td>\n",
       "      <td>0.000000</td>\n",
       "      <td>0.000000</td>\n",
       "      <td>0.000000</td>\n",
       "      <td>0.000000</td>\n",
       "      <td>6.000000</td>\n",
       "      <td>2008.000000</td>\n",
       "      <td>163000.000000</td>\n",
       "    </tr>\n",
       "    <tr>\n",
       "      <th>75%</th>\n",
       "      <td>1095.250000</td>\n",
       "      <td>70.000000</td>\n",
       "      <td>80.000000</td>\n",
       "      <td>11601.500000</td>\n",
       "      <td>7.000000</td>\n",
       "      <td>6.000000</td>\n",
       "      <td>2000.000000</td>\n",
       "      <td>2004.000000</td>\n",
       "      <td>166.000000</td>\n",
       "      <td>712.250000</td>\n",
       "      <td>...</td>\n",
       "      <td>168.000000</td>\n",
       "      <td>68.000000</td>\n",
       "      <td>0.000000</td>\n",
       "      <td>0.000000</td>\n",
       "      <td>0.000000</td>\n",
       "      <td>0.000000</td>\n",
       "      <td>0.000000</td>\n",
       "      <td>8.000000</td>\n",
       "      <td>2009.000000</td>\n",
       "      <td>214000.000000</td>\n",
       "    </tr>\n",
       "    <tr>\n",
       "      <th>max</th>\n",
       "      <td>1460.000000</td>\n",
       "      <td>190.000000</td>\n",
       "      <td>313.000000</td>\n",
       "      <td>215245.000000</td>\n",
       "      <td>10.000000</td>\n",
       "      <td>9.000000</td>\n",
       "      <td>2010.000000</td>\n",
       "      <td>2010.000000</td>\n",
       "      <td>1600.000000</td>\n",
       "      <td>5644.000000</td>\n",
       "      <td>...</td>\n",
       "      <td>857.000000</td>\n",
       "      <td>547.000000</td>\n",
       "      <td>552.000000</td>\n",
       "      <td>508.000000</td>\n",
       "      <td>480.000000</td>\n",
       "      <td>738.000000</td>\n",
       "      <td>15500.000000</td>\n",
       "      <td>12.000000</td>\n",
       "      <td>2010.000000</td>\n",
       "      <td>755000.000000</td>\n",
       "    </tr>\n",
       "  </tbody>\n",
       "</table>\n",
       "<p>8 rows × 38 columns</p>\n",
       "</div>"
      ],
      "text/plain": [
       "                Id   MSSubClass  LotFrontage        LotArea  OverallQual  \\\n",
       "count  1460.000000  1460.000000  1201.000000    1460.000000  1460.000000   \n",
       "mean    730.500000    56.897260    70.049958   10516.828082     6.099315   \n",
       "std     421.610009    42.300571    24.284752    9981.264932     1.382997   \n",
       "min       1.000000    20.000000    21.000000    1300.000000     1.000000   \n",
       "25%     365.750000    20.000000    59.000000    7553.500000     5.000000   \n",
       "50%     730.500000    50.000000    69.000000    9478.500000     6.000000   \n",
       "75%    1095.250000    70.000000    80.000000   11601.500000     7.000000   \n",
       "max    1460.000000   190.000000   313.000000  215245.000000    10.000000   \n",
       "\n",
       "       OverallCond    YearBuilt  YearRemodAdd   MasVnrArea   BsmtFinSF1  ...  \\\n",
       "count  1460.000000  1460.000000   1460.000000  1452.000000  1460.000000  ...   \n",
       "mean      5.575342  1971.267808   1984.865753   103.685262   443.639726  ...   \n",
       "std       1.112799    30.202904     20.645407   181.066207   456.098091  ...   \n",
       "min       1.000000  1872.000000   1950.000000     0.000000     0.000000  ...   \n",
       "25%       5.000000  1954.000000   1967.000000     0.000000     0.000000  ...   \n",
       "50%       5.000000  1973.000000   1994.000000     0.000000   383.500000  ...   \n",
       "75%       6.000000  2000.000000   2004.000000   166.000000   712.250000  ...   \n",
       "max       9.000000  2010.000000   2010.000000  1600.000000  5644.000000  ...   \n",
       "\n",
       "        WoodDeckSF  OpenPorchSF  EnclosedPorch    3SsnPorch  ScreenPorch  \\\n",
       "count  1460.000000  1460.000000    1460.000000  1460.000000  1460.000000   \n",
       "mean     94.244521    46.660274      21.954110     3.409589    15.060959   \n",
       "std     125.338794    66.256028      61.119149    29.317331    55.757415   \n",
       "min       0.000000     0.000000       0.000000     0.000000     0.000000   \n",
       "25%       0.000000     0.000000       0.000000     0.000000     0.000000   \n",
       "50%       0.000000    25.000000       0.000000     0.000000     0.000000   \n",
       "75%     168.000000    68.000000       0.000000     0.000000     0.000000   \n",
       "max     857.000000   547.000000     552.000000   508.000000   480.000000   \n",
       "\n",
       "          PoolArea       MiscVal       MoSold       YrSold      SalePrice  \n",
       "count  1460.000000   1460.000000  1460.000000  1460.000000    1460.000000  \n",
       "mean      2.758904     43.489041     6.321918  2007.815753  180921.195890  \n",
       "std      40.177307    496.123024     2.703626     1.328095   79442.502883  \n",
       "min       0.000000      0.000000     1.000000  2006.000000   34900.000000  \n",
       "25%       0.000000      0.000000     5.000000  2007.000000  129975.000000  \n",
       "50%       0.000000      0.000000     6.000000  2008.000000  163000.000000  \n",
       "75%       0.000000      0.000000     8.000000  2009.000000  214000.000000  \n",
       "max     738.000000  15500.000000    12.000000  2010.000000  755000.000000  \n",
       "\n",
       "[8 rows x 38 columns]"
      ]
     },
     "execution_count": 11,
     "metadata": {},
     "output_type": "execute_result"
    }
   ],
   "source": [
    "home_data.describe()"
   ]
  },
  {
   "cell_type": "code",
   "execution_count": 12,
   "id": "8c74bfe2",
   "metadata": {
    "execution": {
     "iopub.execute_input": "2022-01-17T04:58:52.819256Z",
     "iopub.status.busy": "2022-01-17T04:58:52.818699Z",
     "iopub.status.idle": "2022-01-17T04:58:52.902307Z",
     "shell.execute_reply": "2022-01-17T04:58:52.902839Z",
     "shell.execute_reply.started": "2022-01-17T04:54:52.113499Z"
    },
    "papermill": {
     "duration": 0.115291,
     "end_time": "2022-01-17T04:58:52.903010",
     "exception": false,
     "start_time": "2022-01-17T04:58:52.787719",
     "status": "completed"
    },
    "tags": []
   },
   "outputs": [
    {
     "data": {
      "text/html": [
       "<div>\n",
       "<style scoped>\n",
       "    .dataframe tbody tr th:only-of-type {\n",
       "        vertical-align: middle;\n",
       "    }\n",
       "\n",
       "    .dataframe tbody tr th {\n",
       "        vertical-align: top;\n",
       "    }\n",
       "\n",
       "    .dataframe thead th {\n",
       "        text-align: right;\n",
       "    }\n",
       "</style>\n",
       "<table border=\"1\" class=\"dataframe\">\n",
       "  <thead>\n",
       "    <tr style=\"text-align: right;\">\n",
       "      <th></th>\n",
       "      <th>Id</th>\n",
       "      <th>MSSubClass</th>\n",
       "      <th>LotFrontage</th>\n",
       "      <th>LotArea</th>\n",
       "      <th>OverallQual</th>\n",
       "      <th>OverallCond</th>\n",
       "      <th>YearBuilt</th>\n",
       "      <th>YearRemodAdd</th>\n",
       "      <th>MasVnrArea</th>\n",
       "      <th>BsmtFinSF1</th>\n",
       "      <th>...</th>\n",
       "      <th>GarageArea</th>\n",
       "      <th>WoodDeckSF</th>\n",
       "      <th>OpenPorchSF</th>\n",
       "      <th>EnclosedPorch</th>\n",
       "      <th>3SsnPorch</th>\n",
       "      <th>ScreenPorch</th>\n",
       "      <th>PoolArea</th>\n",
       "      <th>MiscVal</th>\n",
       "      <th>MoSold</th>\n",
       "      <th>YrSold</th>\n",
       "    </tr>\n",
       "  </thead>\n",
       "  <tbody>\n",
       "    <tr>\n",
       "      <th>count</th>\n",
       "      <td>1459.000000</td>\n",
       "      <td>1459.000000</td>\n",
       "      <td>1232.000000</td>\n",
       "      <td>1459.000000</td>\n",
       "      <td>1459.000000</td>\n",
       "      <td>1459.000000</td>\n",
       "      <td>1459.000000</td>\n",
       "      <td>1459.000000</td>\n",
       "      <td>1444.000000</td>\n",
       "      <td>1458.000000</td>\n",
       "      <td>...</td>\n",
       "      <td>1458.000000</td>\n",
       "      <td>1459.000000</td>\n",
       "      <td>1459.000000</td>\n",
       "      <td>1459.000000</td>\n",
       "      <td>1459.000000</td>\n",
       "      <td>1459.000000</td>\n",
       "      <td>1459.000000</td>\n",
       "      <td>1459.000000</td>\n",
       "      <td>1459.000000</td>\n",
       "      <td>1459.000000</td>\n",
       "    </tr>\n",
       "    <tr>\n",
       "      <th>mean</th>\n",
       "      <td>2190.000000</td>\n",
       "      <td>57.378341</td>\n",
       "      <td>68.580357</td>\n",
       "      <td>9819.161069</td>\n",
       "      <td>6.078821</td>\n",
       "      <td>5.553804</td>\n",
       "      <td>1971.357779</td>\n",
       "      <td>1983.662783</td>\n",
       "      <td>100.709141</td>\n",
       "      <td>439.203704</td>\n",
       "      <td>...</td>\n",
       "      <td>472.768861</td>\n",
       "      <td>93.174777</td>\n",
       "      <td>48.313914</td>\n",
       "      <td>24.243317</td>\n",
       "      <td>1.794380</td>\n",
       "      <td>17.064428</td>\n",
       "      <td>1.744345</td>\n",
       "      <td>58.167923</td>\n",
       "      <td>6.104181</td>\n",
       "      <td>2007.769705</td>\n",
       "    </tr>\n",
       "    <tr>\n",
       "      <th>std</th>\n",
       "      <td>421.321334</td>\n",
       "      <td>42.746880</td>\n",
       "      <td>22.376841</td>\n",
       "      <td>4955.517327</td>\n",
       "      <td>1.436812</td>\n",
       "      <td>1.113740</td>\n",
       "      <td>30.390071</td>\n",
       "      <td>21.130467</td>\n",
       "      <td>177.625900</td>\n",
       "      <td>455.268042</td>\n",
       "      <td>...</td>\n",
       "      <td>217.048611</td>\n",
       "      <td>127.744882</td>\n",
       "      <td>68.883364</td>\n",
       "      <td>67.227765</td>\n",
       "      <td>20.207842</td>\n",
       "      <td>56.609763</td>\n",
       "      <td>30.491646</td>\n",
       "      <td>630.806978</td>\n",
       "      <td>2.722432</td>\n",
       "      <td>1.301740</td>\n",
       "    </tr>\n",
       "    <tr>\n",
       "      <th>min</th>\n",
       "      <td>1461.000000</td>\n",
       "      <td>20.000000</td>\n",
       "      <td>21.000000</td>\n",
       "      <td>1470.000000</td>\n",
       "      <td>1.000000</td>\n",
       "      <td>1.000000</td>\n",
       "      <td>1879.000000</td>\n",
       "      <td>1950.000000</td>\n",
       "      <td>0.000000</td>\n",
       "      <td>0.000000</td>\n",
       "      <td>...</td>\n",
       "      <td>0.000000</td>\n",
       "      <td>0.000000</td>\n",
       "      <td>0.000000</td>\n",
       "      <td>0.000000</td>\n",
       "      <td>0.000000</td>\n",
       "      <td>0.000000</td>\n",
       "      <td>0.000000</td>\n",
       "      <td>0.000000</td>\n",
       "      <td>1.000000</td>\n",
       "      <td>2006.000000</td>\n",
       "    </tr>\n",
       "    <tr>\n",
       "      <th>25%</th>\n",
       "      <td>1825.500000</td>\n",
       "      <td>20.000000</td>\n",
       "      <td>58.000000</td>\n",
       "      <td>7391.000000</td>\n",
       "      <td>5.000000</td>\n",
       "      <td>5.000000</td>\n",
       "      <td>1953.000000</td>\n",
       "      <td>1963.000000</td>\n",
       "      <td>0.000000</td>\n",
       "      <td>0.000000</td>\n",
       "      <td>...</td>\n",
       "      <td>318.000000</td>\n",
       "      <td>0.000000</td>\n",
       "      <td>0.000000</td>\n",
       "      <td>0.000000</td>\n",
       "      <td>0.000000</td>\n",
       "      <td>0.000000</td>\n",
       "      <td>0.000000</td>\n",
       "      <td>0.000000</td>\n",
       "      <td>4.000000</td>\n",
       "      <td>2007.000000</td>\n",
       "    </tr>\n",
       "    <tr>\n",
       "      <th>50%</th>\n",
       "      <td>2190.000000</td>\n",
       "      <td>50.000000</td>\n",
       "      <td>67.000000</td>\n",
       "      <td>9399.000000</td>\n",
       "      <td>6.000000</td>\n",
       "      <td>5.000000</td>\n",
       "      <td>1973.000000</td>\n",
       "      <td>1992.000000</td>\n",
       "      <td>0.000000</td>\n",
       "      <td>350.500000</td>\n",
       "      <td>...</td>\n",
       "      <td>480.000000</td>\n",
       "      <td>0.000000</td>\n",
       "      <td>28.000000</td>\n",
       "      <td>0.000000</td>\n",
       "      <td>0.000000</td>\n",
       "      <td>0.000000</td>\n",
       "      <td>0.000000</td>\n",
       "      <td>0.000000</td>\n",
       "      <td>6.000000</td>\n",
       "      <td>2008.000000</td>\n",
       "    </tr>\n",
       "    <tr>\n",
       "      <th>75%</th>\n",
       "      <td>2554.500000</td>\n",
       "      <td>70.000000</td>\n",
       "      <td>80.000000</td>\n",
       "      <td>11517.500000</td>\n",
       "      <td>7.000000</td>\n",
       "      <td>6.000000</td>\n",
       "      <td>2001.000000</td>\n",
       "      <td>2004.000000</td>\n",
       "      <td>164.000000</td>\n",
       "      <td>753.500000</td>\n",
       "      <td>...</td>\n",
       "      <td>576.000000</td>\n",
       "      <td>168.000000</td>\n",
       "      <td>72.000000</td>\n",
       "      <td>0.000000</td>\n",
       "      <td>0.000000</td>\n",
       "      <td>0.000000</td>\n",
       "      <td>0.000000</td>\n",
       "      <td>0.000000</td>\n",
       "      <td>8.000000</td>\n",
       "      <td>2009.000000</td>\n",
       "    </tr>\n",
       "    <tr>\n",
       "      <th>max</th>\n",
       "      <td>2919.000000</td>\n",
       "      <td>190.000000</td>\n",
       "      <td>200.000000</td>\n",
       "      <td>56600.000000</td>\n",
       "      <td>10.000000</td>\n",
       "      <td>9.000000</td>\n",
       "      <td>2010.000000</td>\n",
       "      <td>2010.000000</td>\n",
       "      <td>1290.000000</td>\n",
       "      <td>4010.000000</td>\n",
       "      <td>...</td>\n",
       "      <td>1488.000000</td>\n",
       "      <td>1424.000000</td>\n",
       "      <td>742.000000</td>\n",
       "      <td>1012.000000</td>\n",
       "      <td>360.000000</td>\n",
       "      <td>576.000000</td>\n",
       "      <td>800.000000</td>\n",
       "      <td>17000.000000</td>\n",
       "      <td>12.000000</td>\n",
       "      <td>2010.000000</td>\n",
       "    </tr>\n",
       "  </tbody>\n",
       "</table>\n",
       "<p>8 rows × 37 columns</p>\n",
       "</div>"
      ],
      "text/plain": [
       "                Id   MSSubClass  LotFrontage       LotArea  OverallQual  \\\n",
       "count  1459.000000  1459.000000  1232.000000   1459.000000  1459.000000   \n",
       "mean   2190.000000    57.378341    68.580357   9819.161069     6.078821   \n",
       "std     421.321334    42.746880    22.376841   4955.517327     1.436812   \n",
       "min    1461.000000    20.000000    21.000000   1470.000000     1.000000   \n",
       "25%    1825.500000    20.000000    58.000000   7391.000000     5.000000   \n",
       "50%    2190.000000    50.000000    67.000000   9399.000000     6.000000   \n",
       "75%    2554.500000    70.000000    80.000000  11517.500000     7.000000   \n",
       "max    2919.000000   190.000000   200.000000  56600.000000    10.000000   \n",
       "\n",
       "       OverallCond    YearBuilt  YearRemodAdd   MasVnrArea   BsmtFinSF1  ...  \\\n",
       "count  1459.000000  1459.000000   1459.000000  1444.000000  1458.000000  ...   \n",
       "mean      5.553804  1971.357779   1983.662783   100.709141   439.203704  ...   \n",
       "std       1.113740    30.390071     21.130467   177.625900   455.268042  ...   \n",
       "min       1.000000  1879.000000   1950.000000     0.000000     0.000000  ...   \n",
       "25%       5.000000  1953.000000   1963.000000     0.000000     0.000000  ...   \n",
       "50%       5.000000  1973.000000   1992.000000     0.000000   350.500000  ...   \n",
       "75%       6.000000  2001.000000   2004.000000   164.000000   753.500000  ...   \n",
       "max       9.000000  2010.000000   2010.000000  1290.000000  4010.000000  ...   \n",
       "\n",
       "        GarageArea   WoodDeckSF  OpenPorchSF  EnclosedPorch    3SsnPorch  \\\n",
       "count  1458.000000  1459.000000  1459.000000    1459.000000  1459.000000   \n",
       "mean    472.768861    93.174777    48.313914      24.243317     1.794380   \n",
       "std     217.048611   127.744882    68.883364      67.227765    20.207842   \n",
       "min       0.000000     0.000000     0.000000       0.000000     0.000000   \n",
       "25%     318.000000     0.000000     0.000000       0.000000     0.000000   \n",
       "50%     480.000000     0.000000    28.000000       0.000000     0.000000   \n",
       "75%     576.000000   168.000000    72.000000       0.000000     0.000000   \n",
       "max    1488.000000  1424.000000   742.000000    1012.000000   360.000000   \n",
       "\n",
       "       ScreenPorch     PoolArea       MiscVal       MoSold       YrSold  \n",
       "count  1459.000000  1459.000000   1459.000000  1459.000000  1459.000000  \n",
       "mean     17.064428     1.744345     58.167923     6.104181  2007.769705  \n",
       "std      56.609763    30.491646    630.806978     2.722432     1.301740  \n",
       "min       0.000000     0.000000      0.000000     1.000000  2006.000000  \n",
       "25%       0.000000     0.000000      0.000000     4.000000  2007.000000  \n",
       "50%       0.000000     0.000000      0.000000     6.000000  2008.000000  \n",
       "75%       0.000000     0.000000      0.000000     8.000000  2009.000000  \n",
       "max     576.000000   800.000000  17000.000000    12.000000  2010.000000  \n",
       "\n",
       "[8 rows x 37 columns]"
      ]
     },
     "execution_count": 12,
     "metadata": {},
     "output_type": "execute_result"
    }
   ],
   "source": [
    "test_data.describe()"
   ]
  },
  {
   "cell_type": "code",
   "execution_count": 13,
   "id": "585ba761",
   "metadata": {
    "execution": {
     "iopub.execute_input": "2022-01-17T04:58:52.963737Z",
     "iopub.status.busy": "2022-01-17T04:58:52.963062Z",
     "iopub.status.idle": "2022-01-17T04:58:52.980293Z",
     "shell.execute_reply": "2022-01-17T04:58:52.980784Z",
     "shell.execute_reply.started": "2022-01-17T04:54:52.206514Z"
    },
    "papermill": {
     "duration": 0.049408,
     "end_time": "2022-01-17T04:58:52.980950",
     "exception": false,
     "start_time": "2022-01-17T04:58:52.931542",
     "status": "completed"
    },
    "tags": []
   },
   "outputs": [],
   "source": [
    "test_data.drop([\"YrSold\"],axis=1,inplace=True)\n",
    "test_data.drop([\"MoSold\"],axis=1,inplace=True)\n",
    "test_data.drop([\"RoofMatl\"],axis=1,inplace=True)\n",
    "test_data.drop([\"Condition2\"],axis=1,inplace=True)\n",
    "test_data.drop([\"PoolQC\"],axis=1,inplace=True)\n",
    "test_data.drop([\"SaleType\"],axis=1,inplace=True)\n",
    "test_data.drop([\"Street\"],axis=1,inplace=True)\n",
    "test_data.drop([\"3SsnPorch\"],axis=1,inplace=True)\n",
    "test_data.drop([\"PoolArea\"],axis=1,inplace=True)"
   ]
  },
  {
   "cell_type": "code",
   "execution_count": 14,
   "id": "51d89337",
   "metadata": {
    "execution": {
     "iopub.execute_input": "2022-01-17T04:58:53.040824Z",
     "iopub.status.busy": "2022-01-17T04:58:53.040249Z",
     "iopub.status.idle": "2022-01-17T04:58:53.045080Z",
     "shell.execute_reply": "2022-01-17T04:58:53.045559Z",
     "shell.execute_reply.started": "2022-01-17T04:54:52.228507Z"
    },
    "papermill": {
     "duration": 0.036416,
     "end_time": "2022-01-17T04:58:53.045726",
     "exception": false,
     "start_time": "2022-01-17T04:58:53.009310",
     "status": "completed"
    },
    "tags": []
   },
   "outputs": [
    {
     "data": {
      "text/plain": [
       "(1460, 71)"
      ]
     },
     "execution_count": 14,
     "metadata": {},
     "output_type": "execute_result"
    }
   ],
   "source": [
    "X.shape\n"
   ]
  },
  {
   "cell_type": "code",
   "execution_count": 15,
   "id": "d9dead38",
   "metadata": {
    "execution": {
     "iopub.execute_input": "2022-01-17T04:58:53.109379Z",
     "iopub.status.busy": "2022-01-17T04:58:53.108804Z",
     "iopub.status.idle": "2022-01-17T04:58:53.111056Z",
     "shell.execute_reply": "2022-01-17T04:58:53.111533Z",
     "shell.execute_reply.started": "2022-01-17T04:54:52.240201Z"
    },
    "papermill": {
     "duration": 0.036861,
     "end_time": "2022-01-17T04:58:53.111702",
     "exception": false,
     "start_time": "2022-01-17T04:58:53.074841",
     "status": "completed"
    },
    "tags": []
   },
   "outputs": [
    {
     "data": {
      "text/plain": [
       "(1459, 71)"
      ]
     },
     "execution_count": 15,
     "metadata": {},
     "output_type": "execute_result"
    }
   ],
   "source": [
    "test_data.shape"
   ]
  },
  {
   "cell_type": "code",
   "execution_count": 16,
   "id": "b9fa3a66",
   "metadata": {
    "execution": {
     "iopub.execute_input": "2022-01-17T04:58:53.173545Z",
     "iopub.status.busy": "2022-01-17T04:58:53.172640Z",
     "iopub.status.idle": "2022-01-17T04:58:58.482259Z",
     "shell.execute_reply": "2022-01-17T04:58:58.481653Z",
     "shell.execute_reply.started": "2022-01-17T04:54:52.255194Z"
    },
    "papermill": {
     "duration": 5.341852,
     "end_time": "2022-01-17T04:58:58.482441",
     "exception": false,
     "start_time": "2022-01-17T04:58:53.140589",
     "status": "completed"
    },
    "tags": []
   },
   "outputs": [
    {
     "data": {
      "text/plain": [
       "Pipeline(steps=[('preprocessor',\n",
       "                 ColumnTransformer(transformers=[('numeric',\n",
       "                                                  Pipeline(steps=[('imputer',\n",
       "                                                                   SimpleImputer(fill_value=0,\n",
       "                                                                                 strategy='constant')),\n",
       "                                                                  ('scaler',\n",
       "                                                                   StandardScaler())]),\n",
       "                                                  Index(['Id', 'MSSubClass', 'LotFrontage', 'LotArea', 'OverallQual',\n",
       "       'OverallCond', 'YearBuilt', 'YearRemodAdd', 'MasVnrArea', 'BsmtFinSF1',\n",
       "       'BsmtFinSF2', 'BsmtUnfSF', 'TotalBsmtSF',...\n",
       "                              gamma=0, gpu_id=-1, importance_type=None,\n",
       "                              interaction_constraints='', learning_rate=0.01,\n",
       "                              max_delta_step=0, max_depth=5, min_child_weight=1,\n",
       "                              missing=nan, monotone_constraints='()',\n",
       "                              n_estimators=1000, n_jobs=4, num_parallel_tree=1,\n",
       "                              predictor='auto', random_state=0, reg_alpha=0,\n",
       "                              reg_lambda=1, scale_pos_weight=1, subsample=1,\n",
       "                              tree_method='exact', validate_parameters=1,\n",
       "                              verbosity=None))])"
      ]
     },
     "execution_count": 16,
     "metadata": {},
     "output_type": "execute_result"
    }
   ],
   "source": [
    "my_boost_pipeline.fit(X,y)\n"
   ]
  },
  {
   "cell_type": "code",
   "execution_count": 17,
   "id": "d742bd6f",
   "metadata": {
    "execution": {
     "iopub.execute_input": "2022-01-17T04:58:58.546527Z",
     "iopub.status.busy": "2022-01-17T04:58:58.545922Z",
     "iopub.status.idle": "2022-01-17T04:58:58.813105Z",
     "shell.execute_reply": "2022-01-17T04:58:58.812473Z",
     "shell.execute_reply.started": "2022-01-17T04:54:57.992526Z"
    },
    "papermill": {
     "duration": 0.301036,
     "end_time": "2022-01-17T04:58:58.813260",
     "exception": false,
     "start_time": "2022-01-17T04:58:58.512224",
     "status": "completed"
    },
    "tags": []
   },
   "outputs": [],
   "source": [
    "import pickle\n",
    "# save the model to disk\n",
    "filename = 'finalized_model.sav'\n",
    "pickle.dump(model_boost, open(filename, 'wb'))\n",
    " \n",
    "# some time later...\n",
    " \n",
    "# load the model from disk\n",
    "loaded_model = pickle.load(open(filename, 'rb'))"
   ]
  },
  {
   "cell_type": "code",
   "execution_count": 18,
   "id": "1ebca333",
   "metadata": {
    "execution": {
     "iopub.execute_input": "2022-01-17T04:58:58.881899Z",
     "iopub.status.busy": "2022-01-17T04:58:58.881194Z",
     "iopub.status.idle": "2022-01-17T04:58:58.945250Z",
     "shell.execute_reply": "2022-01-17T04:58:58.944626Z",
     "shell.execute_reply.started": "2022-01-17T04:54:58.270100Z"
    },
    "papermill": {
     "duration": 0.102163,
     "end_time": "2022-01-17T04:58:58.945425",
     "exception": false,
     "start_time": "2022-01-17T04:58:58.843262",
     "status": "completed"
    },
    "tags": []
   },
   "outputs": [],
   "source": [
    "test_preds=my_boost_pipeline.predict(test_data)"
   ]
  },
  {
   "cell_type": "code",
   "execution_count": 19,
   "id": "1ddc4baf",
   "metadata": {
    "execution": {
     "iopub.execute_input": "2022-01-17T04:58:59.017581Z",
     "iopub.status.busy": "2022-01-17T04:58:59.012573Z",
     "iopub.status.idle": "2022-01-17T04:58:59.022883Z",
     "shell.execute_reply": "2022-01-17T04:58:59.023553Z",
     "shell.execute_reply.started": "2022-01-17T04:54:58.345251Z"
    },
    "papermill": {
     "duration": 0.048764,
     "end_time": "2022-01-17T04:58:59.023779",
     "exception": false,
     "start_time": "2022-01-17T04:58:58.975015",
     "status": "completed"
    },
    "tags": []
   },
   "outputs": [
    {
     "name": "stdout",
     "output_type": "stream",
     "text": [
      "MSZoning           4\n",
      "LotFrontage      227\n",
      "Alley           1352\n",
      "Utilities          2\n",
      "Exterior1st        1\n",
      "Exterior2nd        1\n",
      "MasVnrType        16\n",
      "MasVnrArea        15\n",
      "BsmtQual          44\n",
      "BsmtCond          45\n",
      "BsmtExposure      44\n",
      "BsmtFinType1      42\n",
      "BsmtFinSF1         1\n",
      "BsmtFinType2      42\n",
      "BsmtFinSF2         1\n",
      "BsmtUnfSF          1\n",
      "TotalBsmtSF        1\n",
      "BsmtFullBath       2\n",
      "BsmtHalfBath       2\n",
      "KitchenQual        1\n",
      "Functional         2\n",
      "FireplaceQu      730\n",
      "GarageType        76\n",
      "GarageYrBlt       78\n",
      "GarageFinish      78\n",
      "GarageCars         1\n",
      "GarageArea         1\n",
      "GarageQual        78\n",
      "GarageCond        78\n",
      "Fence           1169\n",
      "MiscFeature     1408\n",
      "dtype: int64\n"
     ]
    }
   ],
   "source": [
    "\n",
    "above_0_missing = test_data.isnull().sum() > 0\n",
    "print(test_data.isnull().sum()[above_0_missing])"
   ]
  },
  {
   "cell_type": "markdown",
   "id": "511a6eb0",
   "metadata": {
    "papermill": {
     "duration": 0.029519,
     "end_time": "2022-01-17T04:58:59.084825",
     "exception": false,
     "start_time": "2022-01-17T04:58:59.055306",
     "status": "completed"
    },
    "tags": []
   },
   "source": [
    "Average MAE score: 18902.309315068494\n",
    "Boost Average MAE score: 15044.576933806327"
   ]
  },
  {
   "cell_type": "markdown",
   "id": "b67d03c5",
   "metadata": {
    "papermill": {
     "duration": 0.029141,
     "end_time": "2022-01-17T04:58:59.143697",
     "exception": false,
     "start_time": "2022-01-17T04:58:59.114556",
     "status": "completed"
    },
    "tags": []
   },
   "source": [
    "Before submitting, run a check to make sure your `test_preds` have the right format."
   ]
  },
  {
   "cell_type": "code",
   "execution_count": 20,
   "id": "713394e9",
   "metadata": {
    "execution": {
     "iopub.execute_input": "2022-01-17T04:58:59.206037Z",
     "iopub.status.busy": "2022-01-17T04:58:59.205434Z",
     "iopub.status.idle": "2022-01-17T04:58:59.211330Z",
     "shell.execute_reply": "2022-01-17T04:58:59.211863Z",
     "shell.execute_reply.started": "2022-01-17T04:54:58.364539Z"
    },
    "papermill": {
     "duration": 0.038565,
     "end_time": "2022-01-17T04:58:59.212035",
     "exception": false,
     "start_time": "2022-01-17T04:58:59.173470",
     "status": "completed"
    },
    "tags": []
   },
   "outputs": [
    {
     "data": {
      "application/javascript": [
       "parent.postMessage({\"jupyterEvent\": \"custom.exercise_interaction\", \"data\": {\"outcomeType\": 1, \"valueTowardsCompletion\": 1.0, \"interactionType\": 1, \"questionType\": 2, \"questionId\": \"1_CheckSubmittablePreds\", \"learnToolsVersion\": \"0.3.4\", \"failureMessage\": \"\", \"exceptionClass\": \"\", \"trace\": \"\"}}, \"*\")"
      ],
      "text/plain": [
       "<IPython.core.display.Javascript object>"
      ]
     },
     "metadata": {},
     "output_type": "display_data"
    },
    {
     "data": {
      "text/markdown": [
       "<span style=\"color:#33cc33\">Correct</span>"
      ],
      "text/plain": [
       "Correct"
      ]
     },
     "metadata": {},
     "output_type": "display_data"
    }
   ],
   "source": [
    "# Check your answer (To get credit for completing the exercise, you must get a \"Correct\" result!)\n",
    "step_1.check()\n",
    "#step_1.solution()"
   ]
  },
  {
   "cell_type": "markdown",
   "id": "51cb1284",
   "metadata": {
    "papermill": {
     "duration": 0.030084,
     "end_time": "2022-01-17T04:58:59.273052",
     "exception": false,
     "start_time": "2022-01-17T04:58:59.242968",
     "status": "completed"
    },
    "tags": []
   },
   "source": [
    "# Generate a submission\n",
    "\n",
    "Run the code cell below to generate a CSV file with your predictions that you can use to submit to the competition."
   ]
  },
  {
   "cell_type": "code",
   "execution_count": 21,
   "id": "579441ed",
   "metadata": {
    "execution": {
     "iopub.execute_input": "2022-01-17T04:58:59.337069Z",
     "iopub.status.busy": "2022-01-17T04:58:59.336513Z",
     "iopub.status.idle": "2022-01-17T04:58:59.346817Z",
     "shell.execute_reply": "2022-01-17T04:58:59.347303Z",
     "shell.execute_reply.started": "2022-01-17T04:54:58.373316Z"
    },
    "papermill": {
     "duration": 0.043633,
     "end_time": "2022-01-17T04:58:59.347493",
     "exception": false,
     "start_time": "2022-01-17T04:58:59.303860",
     "status": "completed"
    },
    "tags": []
   },
   "outputs": [],
   "source": [
    "# Run the code to save predictions in the format used for competition scoring\n",
    "\n",
    "output = pd.DataFrame({'Id': test_data.Id,\n",
    "                       'SalePrice': test_preds})\n",
    "output.to_csv('submission.csv', index=False)"
   ]
  },
  {
   "cell_type": "markdown",
   "id": "8d593fdd",
   "metadata": {
    "papermill": {
     "duration": 0.029854,
     "end_time": "2022-01-17T04:58:59.407692",
     "exception": false,
     "start_time": "2022-01-17T04:58:59.377838",
     "status": "completed"
    },
    "tags": []
   },
   "source": [
    "# Submit to the competition\n",
    "\n",
    "To test your results, you'll need to join the competition (if you haven't already).  So open a new window by clicking on **[this link](https://www.kaggle.com/c/home-data-for-ml-course)**.  Then click on the **Join Competition** button.\n",
    "\n",
    "![join competition image](https://i.imgur.com/axBzctl.png)\n",
    "\n",
    "Next, follow the instructions below:\n",
    "1. Begin by clicking on the **Save Version** button in the top right corner of the window.  This will generate a pop-up window.  \n",
    "2. Ensure that the **Save and Run All** option is selected, and then click on the **Save** button.\n",
    "3. This generates a window in the bottom left corner of the notebook.  After it has finished running, click on the number to the right of the **Save Version** button.  This pulls up a list of versions on the right of the screen.  Click on the ellipsis **(...)** to the right of the most recent version, and select **Open in Viewer**.  This brings you into view mode of the same page. You will need to scroll down to get back to these instructions.\n",
    "4. Click on the **Output** tab on the right of the screen.  Then, click on the file you would like to submit, and click on the **Submit** button to submit your results to the leaderboard.\n",
    "\n",
    "You have now successfully submitted to the competition!\n",
    "\n",
    "If you want to keep working to improve your performance, select the **Edit** button in the top right of the screen. Then you can change your code and repeat the process. There's a lot of room to improve, and you will climb up the leaderboard as you work.\n",
    "\n",
    "\n",
    "# Continue Your Progress\n",
    "There are many ways to improve your model, and **experimenting is a great way to learn at this point.**\n",
    "\n",
    "The best way to improve your model is to add features.  To add more features to the data, revisit the first code cell, and change this line of code to include more column names:\n",
    "```python\n",
    "features = ['LotArea', 'YearBuilt', '1stFlrSF', '2ndFlrSF', 'FullBath', 'BedroomAbvGr', 'TotRmsAbvGrd']\n",
    "```\n",
    "\n",
    "Some features will cause errors because of issues like missing values or non-numeric data types.  Here is a complete list of potential columns that you might like to use, and that won't throw errors:\n",
    "- 'MSSubClass'\n",
    "- 'LotArea'\n",
    "- 'OverallQual' \n",
    "- 'OverallCond' \n",
    "- 'YearBuilt'\n",
    "- 'YearRemodAdd' \n",
    "- '1stFlrSF'\n",
    "- '2ndFlrSF' \n",
    "- 'LowQualFinSF' \n",
    "- 'GrLivArea'\n",
    "- 'FullBath'\n",
    "- 'HalfBath'\n",
    "- 'BedroomAbvGr' \n",
    "- 'KitchenAbvGr' \n",
    "- 'TotRmsAbvGrd' \n",
    "- 'Fireplaces' \n",
    "- 'WoodDeckSF' \n",
    "- 'OpenPorchSF'\n",
    "- 'EnclosedPorch' \n",
    "- '3SsnPorch' \n",
    "- 'ScreenPorch' \n",
    "- 'PoolArea' \n",
    "- 'MiscVal' \n",
    "- 'MoSold' \n",
    "- 'YrSold'\n",
    "\n",
    "Look at the list of columns and think about what might affect home prices.  To learn more about each of these features, take a look at the data description on the **[competition page](https://www.kaggle.com/c/home-data-for-ml-course/data)**.\n",
    "\n",
    "After updating the code cell above that defines the features, re-run all of the code cells to evaluate the model and generate a new submission file.  \n",
    "\n",
    "\n",
    "# What's next?\n",
    "\n",
    "As mentioned above, some of the features will throw an error if you try to use them to train your model.  The **[Intermediate Machine Learning](https://www.kaggle.com/learn/intermediate-machine-learning)** course will teach you how to handle these types of features. You will also learn to use **xgboost**, a technique giving even better accuracy than Random Forest.\n",
    "\n",
    "The **[Pandas](https://kaggle.com/Learn/Pandas)** course will give you the data manipulation skills to quickly go from conceptual idea to implementation in your data science projects. \n",
    "\n",
    "You are also ready for the **[Deep Learning](https://kaggle.com/Learn/intro-to-Deep-Learning)** course, where you will build models with better-than-human level performance at computer vision tasks."
   ]
  }
 ],
 "metadata": {
  "kernelspec": {
   "display_name": "Python 3",
   "language": "python",
   "name": "python3"
  },
  "language_info": {
   "codemirror_mode": {
    "name": "ipython",
    "version": 3
   },
   "file_extension": ".py",
   "mimetype": "text/x-python",
   "name": "python",
   "nbconvert_exporter": "python",
   "pygments_lexer": "ipython3",
   "version": "3.7.12"
  },
  "papermill": {
   "default_parameters": {},
   "duration": 60.545523,
   "end_time": "2022-01-17T04:59:02.797772",
   "environment_variables": {},
   "exception": null,
   "input_path": "__notebook__.ipynb",
   "output_path": "__notebook__.ipynb",
   "parameters": {},
   "start_time": "2022-01-17T04:58:02.252249",
   "version": "2.3.3"
  }
 },
 "nbformat": 4,
 "nbformat_minor": 5
}
